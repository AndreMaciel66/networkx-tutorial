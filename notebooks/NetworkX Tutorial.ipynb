{
 "metadata": {
  "name": "",
  "signature": "sha256:e7c16be122572b4031095f91a159b2ae6854b3dda42cb96b251abf13989e6638"
 },
 "nbformat": 3,
 "nbformat_minor": 0,
 "worksheets": [
  {
   "cells": [
    {
     "cell_type": "markdown",
     "metadata": {},
     "source": [
      "# Making networks with Twitter data\n",
      "\n",
      "This section will walk you through how to create and analyze networks using Twitter data.\n",
      "\n",
      "## Data preprocessing: getting data into NetworkX\n",
      "\n",
      "As you've seen before, the data you're working with must be in a specifc format for NetworkX."
     ]
    },
    {
     "cell_type": "code",
     "collapsed": false,
     "input": [
      "# data needs to be:\n",
      "# 'twitter_handle_1' 'twitter_handle_2'\n",
      "# TSV file? can add weights with {'weight': int}\n",
      "# JSON data: function to extract from JSON\n",
      "\n",
      "# What networks to make? Followers, retweets\n",
      "\n",
      "def extract_from_json(filename):\n",
      "    pass\n",
      "\n",
      "def format_data(extracted_json):\n",
      "    pass"
     ],
     "language": "python",
     "metadata": {},
     "outputs": [],
     "prompt_number": 2
    },
    {
     "cell_type": "markdown",
     "metadata": {},
     "source": [
      "## Make networks with Twitter data"
     ]
    },
    {
     "cell_type": "code",
     "collapsed": false,
     "input": [
      "import networkx as nx\n",
      "\n",
      "# Mostly hands-off. Will walk them through and discuss at the end.\n",
      "\n",
      "# Build an undirected graph. What's going on?\n",
      "# Build a directed graph. What's going on?\n",
      "# Let's make the nodes with more connections bigger (add weights). Now what can we see?\n",
      "# How connected is the network?\n",
      "# Centrality: who are the most central nodes?\n",
      "# Centrality: which nodes have the highest betweenness centrality?\n",
      "# Centrality: which nodes have the highest closeness centrality?\n",
      "\n",
      "# At the end, discuss these questions more in-depth."
     ],
     "language": "python",
     "metadata": {},
     "outputs": []
    },
    {
     "cell_type": "markdown",
     "metadata": {},
     "source": [
      "## Visualization with NetworkX\n",
      "\n",
      "We've already looked at this a bit, but let's talk about it more in depth."
     ]
    },
    {
     "cell_type": "code",
     "collapsed": false,
     "input": [
      "import matplotlib.pyplot as plt\n",
      "\n",
      "# NetworkX has wrapper around matplotlib\n",
      "# What else can we do?"
     ],
     "language": "python",
     "metadata": {},
     "outputs": []
    }
   ],
   "metadata": {}
  }
 ]
}