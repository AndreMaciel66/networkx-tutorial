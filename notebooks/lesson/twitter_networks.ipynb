{
 "metadata": {
  "name": "",
  "signature": "sha256:c1fe607339d883ae0fd3e79d16d949e643dbd60305d5acb280c636278d708f31"
 },
 "nbformat": 3,
 "nbformat_minor": 0,
 "worksheets": [
  {
   "cells": [
    {
     "cell_type": "markdown",
     "metadata": {},
     "source": [
      "# Making networks with Twitter data\n",
      "\n",
      "This notebook will walk you through how to create and analyze networks using Twitter data.\n",
      "\n",
      "## Data preprocessing: getting data into NetworkX\n",
      "\n",
      "To make a network in NetworkX using external data, the nodes and the connections between them must be represented by pairs of tuples. In this first section, we'll walk through some data preprocessing techniques together to get our data ready for analysis.\n",
      "\n",
      "Let's take a look at the data we're working with."
     ]
    },
    {
     "cell_type": "code",
     "collapsed": false,
     "input": [
      "import json\n",
      "f = open('../../data/friends/list.PyTennessee.json')"
     ],
     "language": "python",
     "metadata": {},
     "outputs": [],
     "prompt_number": 1
    },
    {
     "cell_type": "code",
     "collapsed": false,
     "input": [
      "# Because the relationship data is split across files, we need to\n",
      "# walk through all of them to get the data.\n",
      "import os\n",
      "\n",
      "for (dir_path, dir_names, file_names) in os.walk('../../data/friend_relationships/'):\n",
      "    f = file_names"
     ],
     "language": "python",
     "metadata": {},
     "outputs": [],
     "prompt_number": 2
    },
    {
     "cell_type": "code",
     "collapsed": false,
     "input": [
      "for file_name in f:\n",
      "    with open('../../data/friend_relationships/' + file_name) as p:"
     ],
     "language": "python",
     "metadata": {},
     "outputs": []
    },
    {
     "cell_type": "markdown",
     "metadata": {},
     "source": [
      "## Make networks with Twitter data\n",
      "\n",
      "Using the NetworkX methods we've learned before, let's do some network analysis on PyTennessee's Twitter friends. We're going to look at the Twitter handles that PyTennessee follows, as well as the relationships between those handles.\n",
      "\n",
      "### Undirected graph"
     ]
    },
    {
     "cell_type": "code",
     "collapsed": false,
     "input": [
      "%matplotlib inline\n",
      "import networkx as nx\n",
      "\n",
      "# Build an undirected graph.\n"
     ],
     "language": "python",
     "metadata": {},
     "outputs": []
    },
    {
     "cell_type": "code",
     "collapsed": false,
     "input": [
      "# Just from looking at it, is this network connected or unconnected?\n"
     ],
     "language": "python",
     "metadata": {},
     "outputs": []
    },
    {
     "cell_type": "code",
     "collapsed": false,
     "input": [
      "# Hint: if you want to sort a dictionary to easily \n",
      "# find the highest and lowest values, use this function \n",
      "# on the output of the centrality measures like degree_centrality():\n",
      "\n",
      "import operator\n",
      "\n",
      "def centrality_sort(centrality_dict):\n",
      "    return sorted(centrality_dict.iteritems(), key=operator.itemgetter(1))\n",
      "\n",
      "# ex. degree_sorted = centrality_sort(degree_vals)"
     ],
     "language": "python",
     "metadata": {},
     "outputs": [],
     "prompt_number": 3
    },
    {
     "cell_type": "code",
     "collapsed": false,
     "input": [
      "# Which nodes have the highest/lowest degree centrality?\n"
     ],
     "language": "python",
     "metadata": {},
     "outputs": [],
     "prompt_number": 4
    },
    {
     "cell_type": "code",
     "collapsed": false,
     "input": [
      "# Which nodes have the highest/lowest betweenness centrality?\n"
     ],
     "language": "python",
     "metadata": {},
     "outputs": [],
     "prompt_number": 5
    },
    {
     "cell_type": "code",
     "collapsed": false,
     "input": [
      "# Which nodes have the highest/lowest closeness centrality?\n"
     ],
     "language": "python",
     "metadata": {},
     "outputs": [],
     "prompt_number": 6
    },
    {
     "cell_type": "code",
     "collapsed": false,
     "input": [
      "# Let's look at subsections of the graph. We'll do this together.\n",
      "\n"
     ],
     "language": "python",
     "metadata": {},
     "outputs": [],
     "prompt_number": 7
    },
    {
     "cell_type": "markdown",
     "metadata": {},
     "source": [
      "### Directed graph\n",
      "\n",
      "Let's add some direction to the graph. When we processed our data, we ordered the pairs so that the first handle in the pair is a follower of the second handle. We're not worrying about pairs that mutually follow each other right now."
     ]
    },
    {
     "cell_type": "code",
     "collapsed": false,
     "input": [
      "# Build a directed graph.\n"
     ],
     "language": "python",
     "metadata": {},
     "outputs": [],
     "prompt_number": 8
    },
    {
     "cell_type": "code",
     "collapsed": false,
     "input": [
      "# Run some degree centrality measures for directed graphs:\n",
      "# in_degree_centrality(): number of incoming connections (number of people following you)\n",
      "# out_degree_centrality(): number of outgoing connections (number of people you follow)\n",
      "\n"
     ],
     "language": "python",
     "metadata": {},
     "outputs": [],
     "prompt_number": 9
    },
    {
     "cell_type": "code",
     "collapsed": false,
     "input": [
      "# Let's look at subsections of the graph. Just like we did above.\n",
      "\n",
      "# Top 20 highest in-degree centrality scores:\n"
     ],
     "language": "python",
     "metadata": {},
     "outputs": [],
     "prompt_number": 10
    },
    {
     "cell_type": "code",
     "collapsed": false,
     "input": [
      "# Top 20 highest out-degree centrality scores:\n"
     ],
     "language": "python",
     "metadata": {},
     "outputs": []
    }
   ],
   "metadata": {}
  }
 ]
}