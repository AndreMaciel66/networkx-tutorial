{
 "metadata": {
  "name": "",
  "signature": "sha256:c046dc446df192ad02a19857ca7f95d036b0cdc00ce8987d392cdde589e3abe1"
 },
 "nbformat": 3,
 "nbformat_minor": 0,
 "worksheets": [
  {
   "cells": [
    {
     "cell_type": "markdown",
     "metadata": {},
     "source": [
      "# Making networks with Twitter data\n",
      "\n",
      "This notebook will walk you through how to create and analyze networks using Twitter data.\n",
      "\n",
      "## Data preprocessing: getting data into NetworkX\n",
      "\n",
      "To make a network in NetworkX using external data, the nodes and the connections between them must be represented by pairs of tuples. In this first section, we'll walk through some data preprocessing techniques together to get our data ready for analysis.\n",
      "\n",
      "Let's take a look at the data we're working with."
     ]
    },
    {
     "cell_type": "code",
     "collapsed": false,
     "input": [
      "import json\n",
      "\n",
      "f = open('../../data/friends/list.PyTennessee.json')\n",
      "pairs = []\n",
      "\n",
      "data = json.load(f)\n",
      "for item in data['users']:\n",
      "    pairs.append(('PyTennessee', str(item['screen_name']))) \n",
      "    \n",
      "print pairs[:10]"
     ],
     "language": "python",
     "metadata": {},
     "outputs": []
    },
    {
     "cell_type": "code",
     "collapsed": false,
     "input": [
      "# Because the relationship data is split across files, we need to\n",
      "# walk through all of them to get the data.\n",
      "import os\n",
      "\n",
      "for (dir_path, dir_names, file_names) in os.walk('../../data/friend_relationships/'):\n",
      "    f = file_names"
     ],
     "language": "python",
     "metadata": {},
     "outputs": []
    },
    {
     "cell_type": "code",
     "collapsed": false,
     "input": [
      "for file_name in f:\n",
      "    with open('../../data/friend_relationships/' + file_name) as p:\n",
      "        pair_data = json.load(p)\n",
      "        for k in pair_data.keys():\n",
      "            twitter_pair = k.split()\n",
      "            if pair_data[k]['relationship']['source']['following'] is True:\n",
      "                pairs.append((str(twitter_pair[0]), str(twitter_pair[1])))\n",
      "            elif pair_data[k]['relationship']['source']['followed_by'] is True:\n",
      "                pairs.append((str(twitter_pair[1]), str(twitter_pair[0])))\n",
      "    \n",
      "print len(pairs)"
     ],
     "language": "python",
     "metadata": {},
     "outputs": []
    },
    {
     "cell_type": "code",
     "collapsed": false,
     "input": [
      "# Hint: if you want to sort a dictionary to easily \n",
      "# find the highest and lowest values, use this function \n",
      "# on the output of the centrality measures like degree_centrality():\n",
      "\n",
      "import operator\n",
      "\n",
      "def centrality_sort(centrality_dict):\n",
      "    return sorted(centrality_dict.iteritems(), key=operator.itemgetter(1))\n",
      "\n",
      "# ex. degree_sorted = centrality_sort(degree_vals)"
     ],
     "language": "python",
     "metadata": {},
     "outputs": []
    },
    {
     "cell_type": "markdown",
     "metadata": {},
     "source": [
      "## Make networks with Twitter data"
     ]
    },
    {
     "cell_type": "code",
     "collapsed": false,
     "input": [
      "%matplotlib inline\n",
      "import networkx as nx\n",
      "import operator\n",
      "\n",
      "# Build an undirected graph. What's going on?\n",
      "g = nx.Graph()\n",
      "g.add_edges_from(pairs)\n",
      "nx.draw(g)\n",
      "\n",
      "# How connected is the network?\n",
      "# Very connected!\n",
      "\n",
      "# Centrality: which nodes have the highest/lowest degree centrality?\n",
      "degree_centrality = nx.degree_centrality(g)\n",
      "degree_sorted = centrality_sort(degree_centrality)\n",
      "print '-------------Degree Centrality-------------'\n",
      "print 'Highest degree:', degree_sorted[-5:]\n",
      "print '\\n'\n",
      "print 'Lowest degree:', degree_sorted[:5]\n",
      "print '\\n'\n",
      "\n",
      "# Centrality: which nodes have the highest/lowest betweenness centrality?\n",
      "betweenness = nx.betweenness_centrality(g)\n",
      "betweenness_sorted = centrality_sort(betweenness)\n",
      "print '-------------Betweenness Centrality-------------'\n",
      "print 'Highest betweenness:', betweenness_sorted[-5:]\n",
      "print '\\n'\n",
      "print 'Lowest betweenness:', betweenness_sorted[:5]\n",
      "print '\\n'\n",
      "\n",
      "# Centrality: which nodes have the highest/lowest closeness centrality?\n",
      "closeness = nx.closeness_centrality(g)\n",
      "closeness_sorted = centrality_sort(closeness)\n",
      "print '-------------Closeness Centrality-------------'\n",
      "print 'Highest closeness:', closeness_sorted[-5:]\n",
      "print '\\n'\n",
      "print 'Lowest closeness:', closeness_sorted[:5]\n",
      "\n",
      "# At the end, discuss these questions more in-depth."
     ],
     "language": "python",
     "metadata": {},
     "outputs": []
    },
    {
     "cell_type": "code",
     "collapsed": false,
     "input": [
      "highest_degree = [node[0] for node in degree_sorted[-20:]]"
     ],
     "language": "python",
     "metadata": {},
     "outputs": []
    },
    {
     "cell_type": "code",
     "collapsed": false,
     "input": [
      "sub = g.subgraph(highest_degree)\n",
      "nx.draw(sub)"
     ],
     "language": "python",
     "metadata": {},
     "outputs": []
    },
    {
     "cell_type": "code",
     "collapsed": false,
     "input": [
      "lowest_degree = [node[0] for node in degree_sorted[:20]]\n",
      "subl = g.subgraph(lowest_degree)\n",
      "nx.draw(subl)"
     ],
     "language": "python",
     "metadata": {},
     "outputs": []
    },
    {
     "cell_type": "code",
     "collapsed": false,
     "input": [
      "# Directed graph\n",
      "\n",
      "d = nx.DiGraph()\n",
      "\n",
      "d.add_edges_from(pairs)\n",
      "nx.draw(d)"
     ],
     "language": "python",
     "metadata": {},
     "outputs": []
    },
    {
     "cell_type": "code",
     "collapsed": false,
     "input": [
      "in_degree_centrality = nx.in_degree_centrality(d)\n",
      "in_degree_sorted = sorted(in_degree_centrality.iteritems(), key=operator.itemgetter(1))\n",
      "print '-------------Degree Centrality-------------'\n",
      "print 'Highest in degree:', in_degree_sorted[-5:]\n",
      "print '\\n'\n",
      "print 'Lowest in degree:', in_degree_sorted[:5]\n",
      "print '\\n'\n",
      "\n",
      "out_degree_centrality = nx.out_degree_centrality(d)\n",
      "out_degree_sorted = sorted(out_degree_centrality.iteritems(), key=operator.itemgetter(1))\n",
      "print '-------------Degree Centrality-------------'\n",
      "print 'Highest out degree:', out_degree_sorted[-5:]\n",
      "print '\\n'\n",
      "print 'Lowest out degree:', out_degree_sorted[:5]"
     ],
     "language": "python",
     "metadata": {},
     "outputs": []
    },
    {
     "cell_type": "code",
     "collapsed": false,
     "input": [
      "highest_in_degree = [node[0] for node in in_degree_sorted[-20:]]\n",
      "subin = d.subgraph(highest_in_degree)\n",
      "nx.draw(subin)"
     ],
     "language": "python",
     "metadata": {},
     "outputs": []
    },
    {
     "cell_type": "code",
     "collapsed": false,
     "input": [
      "highest_out_degree = [node[0] for node in out_degree_sorted[-20:]]\n",
      "subin = d.subgraph(highest_out_degree)\n",
      "nx.draw(subin)"
     ],
     "language": "python",
     "metadata": {},
     "outputs": []
    }
   ],
   "metadata": {}
  }
 ]
}