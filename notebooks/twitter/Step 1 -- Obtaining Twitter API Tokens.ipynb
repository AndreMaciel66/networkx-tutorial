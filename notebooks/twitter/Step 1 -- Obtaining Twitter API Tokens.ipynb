{
 "metadata": {
  "name": "",
  "signature": "sha256:dec5240599ee59c481000c54b83e5374f29143a5ca68fc86a20759ec0d27f91d"
 },
 "nbformat": 3,
 "nbformat_minor": 0,
 "worksheets": [
  {
   "cells": [
    {
     "cell_type": "markdown",
     "metadata": {},
     "source": [
      "## Obtaining Twitter API Tokens\n",
      "\n",
      "Twitter assumes that someone using the Twitter API is most likely creating an app. So, in order to obtain API tokens, we'll have to go through their interface and create a dummy app:\n",
      "\n",
      "<img src=\"files/image1.png\" width=\"400\" />\n",
      "\n",
      "* Go to (https://apps.twitter.com/) and click **\"Create New App\"**\n",
      "* You'll need to fill in:\n",
      "    * **Name, Description and Website**. For my website, I entered my github page, but you can enter any URL that belongs to you\n",
      "    * You can leave Callback URL empty\n",
      "    * Check that you **agree to the Developer Agreement**\n",
      "    * Click **\"Create your Twitter Application\"**"
     ]
    },
    {
     "cell_type": "markdown",
     "metadata": {},
     "source": [
      "You should now be on the management page for your new app. Click on the **Keys and Access Tokens** tab:\n",
      "\n",
      "<img src=\"files/image2.png\" width=\"500\" />"
     ]
    },
    {
     "cell_type": "markdown",
     "metadata": {},
     "source": [
      "Under **Application Settings**, you'll see **Consumer Key and Consumer Secret**, which you want. But you also need an **Access Token & Secret**, which you'll have to generate:\n",
      "\n",
      "* Scroll to the bottom of the page, and click on **\"Create my access token\"** (under Your Access Token, Token Actions)\n",
      "* Under **Your Access Token** you should now see your **Access Token and Access Token Secret**"
     ]
    },
    {
     "cell_type": "markdown",
     "metadata": {},
     "source": [
      "Now that you have these four values:\n",
      "    \n",
      "* Consumer Key (API Key)\n",
      "* Consumer Secret (API Secret)\n",
      "* Access Token\n",
      "* Access Token Secret\n",
      "\n",
      "...copy them somewhere: You'll need them in Step 2, where we make the API calls to Twitter."
     ]
    },
    {
     "cell_type": "code",
     "collapsed": false,
     "input": [],
     "language": "python",
     "metadata": {},
     "outputs": []
    }
   ],
   "metadata": {}
  }
 ]
}