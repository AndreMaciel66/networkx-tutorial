{
 "metadata": {
  "name": "",
  "signature": "sha256:c0509170d31600b94f94949113ea5124a8ec5b295971b7f0754ce2beb62d658c"
 },
 "nbformat": 3,
 "nbformat_minor": 0,
 "worksheets": [
  {
   "cells": [
    {
     "cell_type": "markdown",
     "metadata": {},
     "source": [
      "# Intro to NetworkX\n",
      "\n",
      "### Adding & editing graph nodes\n",
      "\n",
      "We'll first take a look at creating a graph, and adding/editing nodes:"
     ]
    },
    {
     "cell_type": "code",
     "collapsed": false,
     "input": [
      "import networkx as nx\n",
      "\n",
      "# Create a graph\n",
      "g = nx.Graph()\n",
      "\n",
      "# You can add nodes one at a time ...\n",
      "g.add_node(1)\n",
      "g.add_node(2)\n",
      "\n",
      "# Or in bulk:\n",
      "g.add_nodes_from(['a','b',30,4,5])\n",
      "\n",
      "g.nodes()"
     ],
     "language": "python",
     "metadata": {},
     "outputs": []
    },
    {
     "cell_type": "code",
     "collapsed": false,
     "input": [
      "# Note that you can re-add nodes and NetworkX won't complain:\n",
      "g.add_node('a')\n",
      "g.nodes()"
     ],
     "language": "python",
     "metadata": {},
     "outputs": []
    },
    {
     "cell_type": "code",
     "collapsed": false,
     "input": [
      "# Remove nodes can be done one at a time, or in bulk:\n",
      "if 'a' in g:\n",
      "    g.remove_node('a')\n",
      "\n",
      "g.remove_nodes_from(['b', 30])\n",
      "\n",
      "# Show nodes\n",
      "g.nodes()"
     ],
     "language": "python",
     "metadata": {},
     "outputs": []
    },
    {
     "cell_type": "markdown",
     "metadata": {},
     "source": [
      "### Adding & editing edges"
     ]
    },
    {
     "cell_type": "code",
     "collapsed": false,
     "input": [
      "# NetworkX's edges methods are pretty similar to the node methods we just learned:\n",
      "h = nx.Graph()\n",
      "\n",
      "# You can add edges one at a time, or in bulk\n",
      "h.add_edge('A','B')\n",
      "h.add_edges_from([('X','Y'), ('Y','Z')])\n",
      "\n",
      "# You can also view, edit, add attributes and remove them in a similar fashion.\n",
      "h.edges()"
     ],
     "language": "python",
     "metadata": {},
     "outputs": []
    },
    {
     "cell_type": "markdown",
     "metadata": {},
     "source": [
      "### Visualizing graphs"
     ]
    },
    {
     "cell_type": "code",
     "collapsed": false,
     "input": [
      "#ipython notebook magic command (to display graph inside the notebook)\n",
      "%matplotlib inline\n",
      "\n",
      "# Draw graph g (using RED for the node_color)\n",
      "nx.draw(g, node_color='#FF0000', with_labels=True)\n",
      "\n",
      "# Let's draw h as well (using GREEN for the node_color)\n",
      "nx.draw(h, node_color='#00FF00')"
     ],
     "language": "python",
     "metadata": {},
     "outputs": []
    },
    {
     "cell_type": "markdown",
     "metadata": {},
     "source": [
      "#### Quiz 1: How would you create the following graph?\n",
      "\n",
      "<img src=\"../materials/networkx/files/image1.png\" style=\"float:left\" width=\"200\" />"
     ]
    },
    {
     "cell_type": "code",
     "collapsed": false,
     "input": [
      "# Write your answer here"
     ],
     "language": "python",
     "metadata": {},
     "outputs": []
    },
    {
     "cell_type": "markdown",
     "metadata": {},
     "source": [
      "### Centrality Measures"
     ]
    },
    {
     "cell_type": "code",
     "collapsed": false,
     "input": [
      "#Let's redraw our graph h to refresh our memory what it looks like:\n",
      "nx.draw(g)"
     ],
     "language": "python",
     "metadata": {},
     "outputs": []
    },
    {
     "cell_type": "code",
     "collapsed": false,
     "input": [
      "nx.degree_centrality(g)"
     ],
     "language": "python",
     "metadata": {},
     "outputs": []
    },
    {
     "cell_type": "code",
     "collapsed": false,
     "input": [
      "nx.betweenness_centrality(g)"
     ],
     "language": "python",
     "metadata": {},
     "outputs": []
    },
    {
     "cell_type": "code",
     "collapsed": false,
     "input": [
      "nx.closeness_centrality(g)"
     ],
     "language": "python",
     "metadata": {},
     "outputs": []
    },
    {
     "cell_type": "markdown",
     "metadata": {},
     "source": [
      "### Directed Graphs"
     ]
    },
    {
     "cell_type": "code",
     "collapsed": false,
     "input": [
      "# Creating a directed graph\n",
      "dg = nx.DiGraph()\n",
      "dg.add_edges_from([(1,2), (1,3), (2,4), (2,5), (2,6), (3,7), (7,8)])\n",
      "nx.draw(dg, node_color='#9999FF')"
     ],
     "language": "python",
     "metadata": {},
     "outputs": []
    },
    {
     "cell_type": "code",
     "collapsed": false,
     "input": [
      "# You can also covert a graph from one type to another.\n",
      "# Let's convert graph h from above into a directed graph:\n",
      "h_directed = nx.DiGraph(g)\n",
      "nx.draw(h_directed, node_color='#00FF00')"
     ],
     "language": "python",
     "metadata": {},
     "outputs": []
    },
    {
     "cell_type": "code",
     "collapsed": false,
     "input": [
      "# Notice in the plot above that the directions go both ways\n",
      "# This is confirmed when we also print out the list of edges \n",
      "\n",
      "# ....see how each node pair is listed twice?\n",
      "h_directed.edges()"
     ],
     "language": "python",
     "metadata": {},
     "outputs": []
    },
    {
     "cell_type": "markdown",
     "metadata": {},
     "source": [
      "### Adding attributes to nodes and edges\n",
      "\n",
      "Sometimes you may want to attach attributes to either the nodes or edges:\n",
      "\n",
      "* Perhaps you want to save node properties that will be helpful with future analysis\n",
      "* Perhaps you want to attach visual descriptions, such a node size, edge width or graph color"
     ]
    },
    {
     "cell_type": "code",
     "collapsed": false,
     "input": [
      "# create a new graph\n",
      "\n",
      "g = nx.Graph()\n",
      "\n",
      "g.add_edge('San Diego', 'Los Angeles', { 'distance': 0.4})\n",
      "g.add_edge('New York', 'Nashville', { 'distance': 5.6})\n",
      "g.add_edge('Boston', 'D.C.', { 'distance': 0.8})\n",
      "\n",
      "# note the data=True parameter:\n",
      "g.edges(data=True)\n",
      "nx.draw(g)"
     ],
     "language": "python",
     "metadata": {},
     "outputs": []
    },
    {
     "cell_type": "markdown",
     "metadata": {},
     "source": [
      "# Intro to the Twitter API"
     ]
    },
    {
     "cell_type": "markdown",
     "metadata": {},
     "source": [
      "## Obtaining Twitter API Tokens\n",
      "\n",
      "This notebook explains how to obtain Consumer and Access Tokens, which you'll need to use the Twitter API using OAuth2.\n",
      "\n",
      "### Create a new Twitter App\n",
      "\n",
      "Twitter assumes that someone using the Twitter API is most likely creating an app. So, in order to obtain API tokens, we'll have to go through their interface and create a dummy app:\n",
      "\n",
      "<img src=\"../materials/twitter/files/image1.png\" width=\"400\" />\n",
      "\n",
      "* Go to (https://apps.twitter.com/) and click **\"Create New App\"**\n",
      "* You'll need to fill in:\n",
      "    * **Name, Description and Website**. For my website, I entered my github page, but you can enter any URL that belongs to you\n",
      "    * You can leave Callback URL empty\n",
      "    * Check that you **agree to the Developer Agreement**\n",
      "    * Click **\"Create your Twitter Application\"**"
     ]
    },
    {
     "cell_type": "markdown",
     "metadata": {},
     "source": [
      "### Generate an Access Token & Secret\n",
      "\n",
      "You should now be on the management page for your new app. Click on the **Keys and Access Tokens** tab:\n",
      "\n",
      "<img src=\"../materials/twitter/files/image2.png\" width=\"500\" />"
     ]
    },
    {
     "cell_type": "markdown",
     "metadata": {},
     "source": [
      "Under **Application Settings**, you'll see **Consumer Key and Consumer Secret**, which you want. But you also need an **Access Token & Secret**, which you'll have to generate:\n",
      "\n",
      "* Scroll to the bottom of the page, and click on **\"Create my access token\"** (under Your Access Token, Token Actions)\n",
      "* Under **Your Access Token** you should now see your **Access Token and Access Token Secret**"
     ]
    },
    {
     "cell_type": "markdown",
     "metadata": {},
     "source": [
      "Now that you have these four values:\n",
      "    \n",
      "* Consumer Key (API Key)\n",
      "* Consumer Secret (API Secret)\n",
      "* Access Token\n",
      "* Access Token Secret\n",
      "\n",
      "...copy them below:\n",
      "\n"
     ]
    },
    {
     "cell_type": "markdown",
     "metadata": {},
     "source": [
      "## Adding your Twitter API tokens into a config file\n",
      "\n",
      "In the same folder as this iPython notebook (or whatever python file you'll be writing to make the API calls), create a config.py file that looks like this:\n",
      "\n",
      "    # -- config.py file --\n",
      "    CONSUMER_KEY = \"\"           # Consumer Key (API Key)\n",
      "    CONSUMER_SECRET = \"\"        # Consumer Secret (API Secret)\n",
      "    ACCESS_TOKEN = \"\"           # Access Token\n",
      "    ACCESS_SECRET = \"\"          # Access Token Secret\n",
      "\n",
      "Where you'll replace the empty strings with the values you generated from Step 1."
     ]
    },
    {
     "cell_type": "markdown",
     "metadata": {},
     "source": [
      "### Creating an OAuth Client\n",
      "\n",
      "Now you an create an OAuth client, which allows you to authenticate with Twitter and use their API REST endpoints:"
     ]
    },
    {
     "cell_type": "code",
     "collapsed": false,
     "input": [
      "import oauth2 as oauth\n",
      "import config\n",
      "\n",
      "def get_oauth_client():\n",
      "    consumer_key = config.CONSUMER_KEY        # Consumer Key (API Key)\n",
      "    consumer_secret = config.CONSUMER_SECRET  # Consumer Secret (API Secret)\n",
      "    access_token = config.ACCESS_TOKEN        # Access Token\n",
      "    access_secret = config.ACCESS_SECRET      # Access Token Secret\n",
      "\n",
      "    consumer = oauth.Consumer(key=consumer_key, secret=consumer_secret)\n",
      "    token = oauth.Token(key=access_token, secret=access_secret)\n",
      "\n",
      "    return oauth.Client(consumer, token)\n",
      "\n",
      "client = get_oauth_client()"
     ],
     "language": "python",
     "metadata": {},
     "outputs": []
    },
    {
     "cell_type": "markdown",
     "metadata": {},
     "source": [
      "### Twitter's REST APIs\n",
      "\n",
      "Twitter has a rich set of API calls (full list is listed at https://dev.twitter.com/rest/public). But the REST APIs we'll be using in today's workshop are:\n",
      "\n",
      "* [GET friends/list](https://dev.twitter.com/rest/reference/get/friends/list) - who is user X is following?\n",
      "* [GET followers/list](https://dev.twitter.com/rest/reference/get/followers/list) - who follows user X?\n",
      "* [GET statuses/retweets/:id](https://dev.twitter.com/rest/reference/get/statuses/retweets/%3Aid) - who retweeted tweet Y?\n",
      "* [GET statuses/user_timeline](https://dev.twitter.com/rest/reference/get/statuses/user_timeline) - list tweets for user X"
     ]
    },
    {
     "cell_type": "markdown",
     "metadata": {},
     "source": [
      "### Retrieving a list of followers for user X\n",
      "\n",
      "You'll see from the API Documentation that the URL to get the list of followers is:\n",
      "\n",
      "    https://api.twitter.com/1.1/followers/list.json?screen_name=[screen_name]\n",
      "    \n",
      "When we call the URL, it returns a header and a response body:\n",
      "\n",
      "* **The body** is a JSON of data that we requested\n",
      "* **The header** tells us whether or not the request succeeded. Here are a few http status codes to note:\n",
      "    * **200** is the **STATUS_OKAY** code - this tells us request succeeded\n",
      "    * **429** is the **RATE_LIMIT_EXCEEDED** code. Twitter limits how frequently you can query the API (called rate limiting), so a 429 tells us we must wait before making more API requests. Limits vary per API call, so check the documentation to see the limit for each individual REST API endpoint.\n",
      "    * **401** is the **UNAUTHORIZED_USER** code, meaning that Twitter isn't accepting the Consumer/Access tokens. If this happens, try generating new tokens\n",
      "\n",
      "### Making a request to the Twitter API\n",
      "\n",
      "Now that we know what to expect, let's actually make the call:"
     ]
    },
    {
     "cell_type": "code",
     "collapsed": false,
     "input": [
      "screen_name = # your screen_name here\n",
      "url = 'https://api.twitter.com/1.1/followers/list.json?screen_name=' + screen_name\n",
      "header, response = client.request(url, method=\"GET\")\n",
      "print header['status'] # let's check that this prints a 200"
     ],
     "language": "python",
     "metadata": {},
     "outputs": []
    },
    {
     "cell_type": "markdown",
     "metadata": {},
     "source": [
      "### Extracting data from the JSON Result\n",
      "\n",
      "In order to manipultate hte JSON result, we can you the **json** package to extract just the data you want:"
     ]
    },
    {
     "cell_type": "code",
     "collapsed": false,
     "input": [
      "import json\n",
      "\n",
      "# convert JSON string into python dict\n",
      "data = json.loads(response)\n",
      "\n",
      "# running this cell will show you the whole JSON reponse ... head's up.... there's a lot!\n",
      "data"
     ],
     "language": "python",
     "metadata": {},
     "outputs": []
    },
    {
     "cell_type": "markdown",
     "metadata": {},
     "source": [
      "For this tutorial, we only care about:\n",
      "\n",
      "* **data['next_cursor']** - The call above only returned 20 results. Using next_cursor, we can obtain the next 20 results.\n",
      "* **data['users']** - the actual list of users. And within this, we only care about:\n",
      "    * **data['users'][i]['screen_name']** - the twitter handle of the follower\n",
      "    * **data['users'][i]['followers_count']** - how many followers the user's follower has\n",
      "    \n",
      "Here is code to get that information:"
     ]
    },
    {
     "cell_type": "code",
     "collapsed": false,
     "input": [
      "next_cursor = data['next_cursor']\n",
      "\n",
      "# list to hold follower details\n",
      "followers = []\n",
      "for u in data['users']:\n",
      "    # create a tuple of (screen_name, followers_count)\n",
      "    user_detail = (u['screen_name'], u['followers_count'])\n",
      "    followers.append(user_detail)"
     ],
     "language": "python",
     "metadata": {},
     "outputs": []
    },
    {
     "cell_type": "markdown",
     "metadata": {},
     "source": [
      "### Generating the subsequent Twitter API call\n",
      "\n",
      "What we want to do next is to call the url again and extract the next 20 results.\n",
      "\n",
      "Let's combine the last few steps into one method that we can call, called **get_followers()** which calls the URL, and extracts just the fields we care about:\n",
      "    * next_cursor (if any)\n",
      "    * follower's screen_name\n",
      "    * follower's follower_count"
     ]
    },
    {
     "cell_type": "code",
     "collapsed": false,
     "input": [
      "def get_followers(screen_name, cursor):\n",
      "    url = 'https://api.twitter.com/1.1/followers/list.json?screen_name=' + screen_name\n",
      "    if next_cursor:\n",
      "        url += '&cursor=' + str(cursor)\n",
      "    print url\n",
      "    header, response = client.request(url, method=\"GET\")\n",
      "    if header['status'] <> '200':\n",
      "        print header['status']\n",
      "        return None, None\n",
      "    data = json.loads(response)\n",
      "    followers = []\n",
      "    for u in data['users']:\n",
      "        # create a tuple of (screen_name, followers_count)\n",
      "        user_detail = (u['screen_name'], u['followers_count'])\n",
      "        followers.append(user_detail)    \n",
      "    return data['next_cursor'], followers"
     ],
     "language": "python",
     "metadata": {},
     "outputs": []
    },
    {
     "cell_type": "markdown",
     "metadata": {},
     "source": [
      "Now we can just pass the screen_name and next_cursor, until we no longer get back a next_cursor.\n",
      "\n",
      "**Careful!** - because of Twitter's rate limiting, we shouldn't do this too many times in a small timeframe. This particular request only allows 15 calls in a 15-min window. So, you may want to sleep 1 minute between each call."
     ]
    },
    {
     "cell_type": "code",
     "collapsed": false,
     "input": [
      "import time\n",
      "\n",
      "# don't make too many calls at once, or else you'll reach your rate limit!!\n",
      "seconds_to_sleep = 10\n",
      "num_requests_to_make = 2\n",
      "while num_requests_to_make > 0:\n",
      "    num_requests_to_make -= 1\n",
      "    next_cursor, returned_followers = get_followers(screen_name, next_cursor)\n",
      "    if not next_cursor:\n",
      "        break\n",
      "    if returned_followers:\n",
      "        followers.extend(returned_followers)\n",
      "\n",
      "    # wait a bit so we don't get a \"rate exceeded\" error\n",
      "    print 'sleeping for', seconds_to_sleep\n",
      "    time.sleep(seconds_to_sleep)"
     ],
     "language": "python",
     "metadata": {},
     "outputs": []
    },
    {
     "cell_type": "markdown",
     "metadata": {},
     "source": [
      "### Next Steps\n",
      "\n",
      "At some point, you'll probably want to save your JSON results to a file, so that you can further analyze and manipulate the data without asking twitter for the same results again and again (don't waste your rate limit requests if you don't have to!)\n",
      "\n",
      "The json library makes it easy to save objects to a file:"
     ]
    },
    {
     "cell_type": "code",
     "collapsed": false,
     "input": [
      "next_cursor = None # or whatever cursor you want to pass in\n",
      "next_cursor, returned_followers = get_followers(screen_name, next_cursor)\n",
      "save_as_filename = 'followers.%s.%s.json' % (screen_name, next_cursor)\n",
      "print 'saving as', save_as_filename\n",
      "with open(save_as_filename, 'w+') as f:\n",
      "    f.write(json.dumps(returned_followers, indent=4))"
     ],
     "language": "python",
     "metadata": {},
     "outputs": []
    },
    {
     "cell_type": "markdown",
     "metadata": {},
     "source": [
      "### To Explore Further\n",
      "\n",
      "To explore the other API Endpoints, Twitter has a great interactive UI console, where you can tweak the inputs and see the outputs:\n",
      "\n",
      "https://dev.twitter.com/rest/tools/console\n"
     ]
    },
    {
     "cell_type": "markdown",
     "metadata": {},
     "source": [
      "# At this point, switch to lesson.ipynb!!!"
     ]
    },
    {
     "cell_type": "markdown",
     "metadata": {},
     "source": [
      "# After the lesson:\n",
      "\n",
      "# Visualizations"
     ]
    },
    {
     "cell_type": "code",
     "collapsed": false,
     "input": [
      "#ipython notebook magic command (to display graph inside the notebook)\n",
      "%matplotlib inline\n",
      "\n",
      "import networkx as nx\n",
      "\n",
      "g = nx.Graph()\n",
      "\n",
      "# let's attach a size attribute to each node to describe how big we want the node to be\n",
      "g.add_node(1, {'size': 800})\n",
      "g.add_node(2, {'size': 200})\n",
      "g.add_node(3, {'size': 200})\n",
      "g.add_node(4, {'size': 200})\n",
      "g.add_node(5, {'size': 200})\n",
      "\n",
      "g.add_edge(1,2, { 'thickness': 20})\n",
      "g.add_edge(1,3, { 'thickness': 20})\n",
      "g.add_edge(1,4, { 'thickness': 20})\n",
      "g.add_edge(1,5, { 'thickness': 20})\n",
      "g.add_edge(2,3, { 'thickness': 5})\n",
      "g.add_edge(3,4, { 'thickness': 5})\n",
      "g.add_edge(4,5, { 'thickness': 5})\n",
      "g.add_edge(5,2, { 'thickness': 5})\n",
      "\n",
      "# let's iterate through the nodes and edges and extract the list of node & edge sizes\n",
      "node_size = [attribs['size'] for (node, attribs) in g.nodes(data=True)]\n",
      "edge_thickness = [attribs['thickness'] for (v_from, v_to, attribs) in g.edges(data=True)]\n",
      "\n",
      "LIGHT_BLUE = '#A0CBE2'\n",
      "\n",
      "nx.draw(g, \n",
      "    node_size = node_size,   # node_size can either take a single value (where all nodes will be size N),\n",
      "                             # or a list of values, where Nth list value will be the size for the Nth node\n",
      "    with_labels = True,\n",
      "    width = edge_thickness,  # similarly, the Nth value corresponds to the width for edge N\n",
      "    node_color = LIGHT_BLUE,\n",
      "    edge_color = LIGHT_BLUE,\n",
      "    font_size = 15\n",
      ")"
     ],
     "language": "python",
     "metadata": {},
     "outputs": []
    },
    {
     "cell_type": "code",
     "collapsed": false,
     "input": [
      "import networkx as nx\n",
      "import matplotlib.pyplot as plt\n",
      "\n",
      "edgelist_txt = '../../data/retweets.txt'\n",
      "G = nx.read_edgelist(edgelist_txt, create_using=nx.DiGraph())"
     ],
     "language": "python",
     "metadata": {},
     "outputs": []
    },
    {
     "cell_type": "code",
     "collapsed": false,
     "input": [
      "LAYOUTS = {\n",
      "    'circular': nx.circular_layout,\n",
      "    'fr': nx.fruchterman_reingold_layout,\n",
      "    'random': nx.random_layout,\n",
      "    'shell': nx.shell_layout,\n",
      "    'spectral': nx.spectral_layout,\n",
      "    'spring': nx.spring_layout\n",
      "}\n",
      "\n",
      "def save_layout(G, layout_name):\n",
      "    elarge=[(u,v) for (u,v,d) in G.edges(data=True) if d['weight'] >1.5]\n",
      "    esmall=[(u,v) for (u,v,d) in G.edges(data=True) if d['weight'] <=1.5]\n",
      "    nlarge=[n for n in G.nodes() if n in ['PyTennessee']]\n",
      "    pos=LAYOUTS[layout_name](G) # positions for all nodes\n",
      "\n",
      "    print nlarge\n",
      "    # nodes\n",
      "    nx.draw_networkx_nodes(G,pos,nodelist=nlarge,node_size=1)\n",
      "\n",
      "    # edges\n",
      "    nx.draw_networkx_edges(G,pos,edgelist=elarge, width=1)\n",
      "    nx.draw_networkx_edges(G,pos,edgelist=esmall, width=1,alpha=0.5,edge_color='#cccccc')\n",
      "\n",
      "    # labelsM\n",
      "    labels={}\n",
      "    labels['PyTennessee']='PyTennessee'\n",
      "    nx.draw_networkx_labels(G,pos,labels,font_size=6)\n",
      "    #nx.draw_networkx_labels(G,pos,nodelist=nlarge,font_size=6,font_family='sans-serif')\n",
      "\n",
      "    plt.axis('off')\n",
      "    plt.savefig(layout_name + '.png', dpi=500)\n",
      "\n",
      "save_layout(G, 'spring')"
     ],
     "language": "python",
     "metadata": {},
     "outputs": []
    },
    {
     "cell_type": "markdown",
     "metadata": {},
     "source": [
      "### Spring\n",
      "\n",
      "Below is the same graph from above, just bigger:\n",
      "<img src=\"../materials/networkx/files/spring.png\"/>\n",
      "\n",
      "## Other NetworkX Graphing Layouts\n",
      "\n",
      "### Circular\n",
      "<img src=\"../materials/networkx/files/circular.png\"/>\n",
      "### Fruchterman-Reingold\n",
      "<img src=\"../materials/networkx/files/fr.png\"/>\n",
      "### Random\n",
      "<img src=\"../materials/networkx/files/random.png\"/>\n",
      "### Shell\n",
      "<img src=\"../materials/networkx/files/shell.png\"/>\n",
      "### Spectral\n",
      "<img src=\"../materials/networkx/files/spectral.png\"/>"
     ]
    },
    {
     "cell_type": "code",
     "collapsed": false,
     "input": [],
     "language": "python",
     "metadata": {},
     "outputs": []
    }
   ],
   "metadata": {}
  }
 ]
}