{
 "metadata": {
  "name": "",
  "signature": "sha256:068ee941a7ec4c7d1ccae929aa8abb7e708a6ea1a0d854bbc2daca6617f1d6e9"
 },
 "nbformat": 3,
 "nbformat_minor": 0,
 "worksheets": [
  {
   "cells": [
    {
     "cell_type": "code",
     "collapsed": false,
     "input": [
      "#ipython notebook magic command (to display graph inside the notebook)\n",
      "%matplotlib inline\n",
      "\n",
      "import networkx as nx\n",
      "\n",
      "g = nx.Graph()\n",
      "\n",
      "# let's attach a size attribute to each node to describe how big we want the node to be\n",
      "g.add_node(1, {'size': 800})\n",
      "g.add_node(2, {'size': 200})\n",
      "g.add_node(3, {'size': 200})\n",
      "g.add_node(4, {'size': 200})\n",
      "g.add_node(5, {'size': 200})\n",
      "\n",
      "g.add_edge(1,2, { 'thickness': 20})\n",
      "g.add_edge(1,3, { 'thickness': 20})\n",
      "g.add_edge(1,4, { 'thickness': 20})\n",
      "g.add_edge(1,5, { 'thickness': 20})\n",
      "g.add_edge(2,3, { 'thickness': 5})\n",
      "g.add_edge(3,4, { 'thickness': 5})\n",
      "g.add_edge(4,5, { 'thickness': 5})\n",
      "g.add_edge(5,2, { 'thickness': 5})\n",
      "\n",
      "# let's iterate through the nodes and edges and extract the list of node & edge sizes\n",
      "node_size = [attribs['size'] for (node, attribs) in g.nodes(data=True)]\n",
      "edge_thickness = [attribs['thickness'] for (v_from, v_to, attribs) in g.edges(data=True)]\n",
      "\n",
      "LIGHT_BLUE = '#A0CBE2'\n",
      "\n",
      "nx.draw(g, \n",
      "    node_size = node_size,   # node_size can either take a single value (where all nodes will be size N),\n",
      "                             # or a list of values, where Nth list value will be the size for the Nth node\n",
      "    with_labels = True,\n",
      "    width = edge_thickness,  # similarly, the Nth value corresponds to the width for edge N\n",
      "    node_color = LIGHT_BLUE,\n",
      "    edge_color = LIGHT_BLUE,\n",
      "    font_size = 15\n",
      ")"
     ],
     "language": "python",
     "metadata": {},
     "outputs": []
    },
    {
     "cell_type": "code",
     "collapsed": false,
     "input": [
      "import networkx as nx\n",
      "import matplotlib.pyplot as plt\n",
      "\n",
      "edgelist_txt = '../../data/retweets.txt'\n",
      "G = nx.read_edgelist(edgelist_txt, create_using=nx.DiGraph())"
     ],
     "language": "python",
     "metadata": {},
     "outputs": []
    },
    {
     "cell_type": "code",
     "collapsed": false,
     "input": [
      "LAYOUTS = {\n",
      "    'circular': nx.circular_layout,\n",
      "    'fr': nx.fruchterman_reingold_layout,\n",
      "    'random': nx.random_layout,\n",
      "    'shell': nx.shell_layout,\n",
      "    'spectral': nx.spectral_layout,\n",
      "    'spring': nx.spring_layout\n",
      "}\n",
      "\n",
      "def save_layout(G, layout_name):\n",
      "    elarge=[(u,v) for (u,v,d) in G.edges(data=True) if d['weight'] >1.5]\n",
      "    esmall=[(u,v) for (u,v,d) in G.edges(data=True) if d['weight'] <=1.5]\n",
      "    nlarge=[n for n in G.nodes() if n in ['PyTennessee']]\n",
      "    pos=LAYOUTS[layout_name](G) # positions for all nodes\n",
      "\n",
      "    print nlarge\n",
      "    # nodes\n",
      "    nx.draw_networkx_nodes(G,pos,nodelist=nlarge,node_size=1)\n",
      "\n",
      "    # edges\n",
      "    nx.draw_networkx_edges(G,pos,edgelist=elarge, width=1)\n",
      "    nx.draw_networkx_edges(G,pos,edgelist=esmall, width=1,alpha=0.5,edge_color='#cccccc')\n",
      "\n",
      "    # labels\n",
      "    labels={}\n",
      "    labels['PyTennessee']='PyTennessee'\n",
      "    nx.draw_networkx_labels(G,pos,labels,font_size=6)\n",
      "    #nx.draw_networkx_labels(G,pos,nodelist=nlarge,font_size=6,font_family='sans-serif')\n",
      "\n",
      "    plt.axis('off')\n",
      "    plt.savefig(layout_name + '.png', dpi=500)\n",
      "\n",
      "save_layout(G, 'spring')"
     ],
     "language": "python",
     "metadata": {},
     "outputs": []
    },
    {
     "cell_type": "markdown",
     "metadata": {},
     "source": [
      "### Circular\n",
      "<img src=\"files/circular.png\"/>\n",
      "### Fruchterman-Reingold\n",
      "<img src=\"files/fr.png\"/>\n",
      "### Random\n",
      "<img src=\"files/random.png\"/>\n",
      "### Shell\n",
      "<img src=\"files/shell.png\"/>\n",
      "### Spectral\n",
      "<img src=\"files/spectral.png\"/>\n",
      "### Spring\n",
      "<img src=\"files/spring.png\"/>"
     ]
    }
   ],
   "metadata": {}
  }
 ]
}