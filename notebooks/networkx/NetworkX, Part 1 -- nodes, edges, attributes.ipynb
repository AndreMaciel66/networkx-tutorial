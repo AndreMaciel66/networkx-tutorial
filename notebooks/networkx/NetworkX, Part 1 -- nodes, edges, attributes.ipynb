{
 "metadata": {
  "name": "",
  "signature": "sha256:42b4e97e2151c5eeb7eb5f5ec751e56d0a7f76a3276621a95ed5f60d72a603b1"
 },
 "nbformat": 3,
 "nbformat_minor": 0,
 "worksheets": [
  {
   "cells": [
    {
     "cell_type": "markdown",
     "metadata": {},
     "source": [
      "### Adding & editing graph nodes\n",
      "\n",
      "We'll first take a look at creating a graph, and adding/editing nodes:"
     ]
    },
    {
     "cell_type": "code",
     "collapsed": false,
     "input": [
      "import networkx as nx\n",
      "\n",
      "# Create a graph\n",
      "g = nx.Graph()\n",
      "\n",
      "# You can add nodes one at a time ...\n",
      "g.add_node(1)\n",
      "g.add_node(2)\n",
      "\n",
      "# Or in bulk:\n",
      "g.add_nodes_from(['a','b',30,4,5])\n",
      "\n",
      "g.nodes()"
     ],
     "language": "python",
     "metadata": {},
     "outputs": []
    },
    {
     "cell_type": "code",
     "collapsed": false,
     "input": [
      "# Note that you can re-add nodes and NetworkX won't complain:\n",
      "g.add_node('a')\n",
      "g.nodes()"
     ],
     "language": "python",
     "metadata": {},
     "outputs": []
    },
    {
     "cell_type": "code",
     "collapsed": false,
     "input": [
      "# Remove nodes can be done one at a time, or in bulk:\n",
      "if 'a' in g:\n",
      "    g.remove_node('a')\n",
      "\n",
      "g.remove_nodes_from(['b', 30])\n",
      "\n",
      "# Show nodes\n",
      "g.nodes()"
     ],
     "language": "python",
     "metadata": {},
     "outputs": []
    },
    {
     "cell_type": "markdown",
     "metadata": {},
     "source": [
      "### Adding & editing edges"
     ]
    },
    {
     "cell_type": "code",
     "collapsed": false,
     "input": [
      "# NetworkX's edges methods are pretty similar to the node methods we just learned:\n",
      "h = nx.Graph()\n",
      "\n",
      "# You can add edges one at a time, or in bulk\n",
      "h.add_edge('A','B')\n",
      "h.add_edges_from([('X','Y'), ('Y','Z')])\n",
      "\n",
      "# You can also view, edit, add attributes and remove them in a similar fashion.\n",
      "h.edges()"
     ],
     "language": "python",
     "metadata": {},
     "outputs": []
    },
    {
     "cell_type": "markdown",
     "metadata": {},
     "source": [
      "### Visualizing graphs"
     ]
    },
    {
     "cell_type": "code",
     "collapsed": false,
     "input": [
      "#ipython notebook magic command (to display graph inside the notebook)\n",
      "%matplotlib inline\n",
      "\n",
      "# Draw graph g (using RED for the node_color)\n",
      "nx.draw(g, node_color='#FF0000')\n",
      "\n",
      "\n",
      "# Let's draw h as well (using GREEN for the node_color)\n",
      "nx.draw(h, node_color='#00FF00')"
     ],
     "language": "python",
     "metadata": {},
     "outputs": []
    },
    {
     "cell_type": "markdown",
     "metadata": {},
     "source": [
      "#### Quiz 1: How would you create the following graph?\n",
      "\n",
      "<img src=\"files/image1.png\" style=\"float:left\" width=\"200\" />"
     ]
    },
    {
     "cell_type": "code",
     "collapsed": false,
     "input": [
      "# Write your answer here"
     ],
     "language": "python",
     "metadata": {},
     "outputs": []
    },
    {
     "cell_type": "markdown",
     "metadata": {},
     "source": [
      "### Centrality Measures"
     ]
    },
    {
     "cell_type": "code",
     "collapsed": false,
     "input": [
      "#Let's redraw our graph h to refresh our memory what it looks like:\n",
      "nx.draw(h)"
     ],
     "language": "python",
     "metadata": {},
     "outputs": []
    },
    {
     "cell_type": "code",
     "collapsed": false,
     "input": [
      "nx.degree_centrality(h)"
     ],
     "language": "python",
     "metadata": {},
     "outputs": []
    },
    {
     "cell_type": "code",
     "collapsed": false,
     "input": [
      "nx.betweenness_centrality(h)"
     ],
     "language": "python",
     "metadata": {},
     "outputs": []
    },
    {
     "cell_type": "code",
     "collapsed": false,
     "input": [
      "nx.closeness_centrality(h)"
     ],
     "language": "python",
     "metadata": {},
     "outputs": []
    },
    {
     "cell_type": "markdown",
     "metadata": {},
     "source": [
      "### Directed Graphs"
     ]
    },
    {
     "cell_type": "code",
     "collapsed": false,
     "input": [
      "# Creating a directed graph\n",
      "dg = nx.DiGraph()\n",
      "dg.add_edges_from([(1,2), (1,3), (2,4), (2,5), (2,6), (3,7), (7,8)])\n",
      "nx.draw(dg, node_color='#9999FF')"
     ],
     "language": "python",
     "metadata": {},
     "outputs": []
    },
    {
     "cell_type": "code",
     "collapsed": false,
     "input": [
      "# You can also covert a graph from one type to another.\n",
      "# Let's convert graph h from above into a directed graph:\n",
      "h_directed = nx.DiGraph(h)\n",
      "nx.draw(h_directed, node_color='#00FF00')"
     ],
     "language": "python",
     "metadata": {},
     "outputs": []
    },
    {
     "cell_type": "code",
     "collapsed": false,
     "input": [
      "# Notice in the plot above that the directions go both ways\n",
      "# This is confirmed when we also print out the list of edges \n",
      "\n",
      "# ....see how each node pair is listed twice?\n",
      "h_directed.edges()"
     ],
     "language": "python",
     "metadata": {},
     "outputs": []
    },
    {
     "cell_type": "markdown",
     "metadata": {},
     "source": [
      "### Adding attributes to nodes and edges\n",
      "\n",
      "Sometimes you may want to attach attributes to either the nodes or edges:\n",
      "\n",
      "* Perhaps you want to save node properties that will be helpful with future analysis\n",
      "* Perhaps you want to attach visual descriptions, such a node size, edge width or graph color"
     ]
    },
    {
     "cell_type": "code",
     "collapsed": false,
     "input": [
      "# create a new graph\n",
      "\n",
      "g = nx.Graph()\n",
      "\n",
      "g.add_edge('San Diego', 'Los Angeles', { 'distance': 0.4})\n",
      "g.add_edge('New York', 'Nashville', { 'distance': 5.6})\n",
      "g.add_edge('Boston', 'D.C.', { 'distance': 0.8})\n",
      "\n",
      "# note the data=True parameter:\n",
      "g.edges(data=True)"
     ],
     "language": "python",
     "metadata": {},
     "outputs": []
    }
   ],
   "metadata": {}
  }
 ]
}