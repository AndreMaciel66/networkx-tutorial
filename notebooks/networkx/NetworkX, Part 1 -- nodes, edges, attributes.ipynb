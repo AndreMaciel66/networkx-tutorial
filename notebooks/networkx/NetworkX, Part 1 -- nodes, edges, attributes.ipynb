{
 "metadata": {
  "name": "",
  "signature": "sha256:69e99cc20f167eaf13f05af3fd6dc2f11c917475fa0bf5cfa8cbc05ac6023daa"
 },
 "nbformat": 3,
 "nbformat_minor": 0,
 "worksheets": [
  {
   "cells": [
    {
     "cell_type": "markdown",
     "metadata": {},
     "source": [
      "**Note:** *in order for the plots to show up, you need to run ipython with the following command line parameters:*\n",
      "\n",
      "    unix% ipython notebook --pylab inline\n",
      "\n",
      "### Adding graph nodes and edges\n",
      "\n",
      "Run the following to see how you can a nodes and edges in bulk, or one at a time:"
     ]
    },
    {
     "cell_type": "code",
     "collapsed": false,
     "input": [
      "import networkx as nx\n",
      "\n",
      "# Create a graph:\n",
      "g = nx.Graph()\n",
      "\n",
      "# Add nodes one at a time ...\n",
      "g.add_node(11)\n",
      "\n",
      "# .... or in bulk:\n",
      "g.add_nodes_from([1,2,3])\n",
      "\n",
      "# Draw graph g (using RED for the node_color)\n",
      "nx.draw(g, node_color='#FF0000')\n",
      "\n",
      "# Now let's create a second graph:\n",
      "h = nx.Graph()\n",
      "\n",
      "# We can add a single edge...\n",
      "h.add_edge(5,6)\n",
      "\n",
      "# ... or add list of edges:\n",
      "h.add_edges_from([(1,2), (2,3)])\n",
      "\n",
      "# Let's draw h as well (using GREEN for the node_color)\n",
      "nx.draw(h, node_color='#00FF00')"
     ],
     "language": "python",
     "metadata": {},
     "outputs": []
    },
    {
     "cell_type": "markdown",
     "metadata": {},
     "source": [
      "#### Quiz 1: How would you draw the following graph?\n",
      "\n",
      "<img src=\"files/image1.png\" style=\"float:left\" width=\"200\" />"
     ]
    },
    {
     "cell_type": "code",
     "collapsed": false,
     "input": [
      "# Write your answer here"
     ],
     "language": "python",
     "metadata": {},
     "outputs": []
    },
    {
     "cell_type": "markdown",
     "metadata": {},
     "source": [
      "### Adding attributes to nodes and edges\n",
      "\n",
      "Sometimes you may want to attach attributes to either the nodes or edges:\n",
      "\n",
      "* Perhaps you want to save node properties that will be helpful with future analysis\n",
      "* Perhaps you want to attach visual descriptions, such a node size, edge width or graph color\n",
      "\n",
      "The next example shows how to customize node and edge sizes, using attributes:"
     ]
    },
    {
     "cell_type": "code",
     "collapsed": false,
     "input": [
      "# create a new graph\n",
      "g = nx.Graph()\n",
      "\n",
      "# let's attach a size attribute to each node to describe how big we want the node to be\n",
      "g.add_node(1, {'size': 100})\n",
      "g.add_node(2, {'size': 200})\n",
      "g.add_node(4, {'size': 400})\n",
      "\n",
      "# let's use the edge attribute to describe how thick we want that edge to be\n",
      "g.add_edge(1,2, { 'thickness': 1})\n",
      "g.add_edge(2,4, { 'thickness': 22})\n",
      "\n",
      "# let's iterate through the nodes and edges and extract the list of node & edge sizes\n",
      "node_size = [attribs['size'] for (node, attribs) in g.nodes(data=True)]\n",
      "edge_thickness = [attribs['thickness'] for (v_from, v_to, attribs) in g.edges(data=True)]\n",
      "\n",
      "# let's take a peek at what g.nodes(data=True) and g.edges(data=True) returns\n",
      "print 'nodes, with data:', g.nodes(data=True)\n",
      "print 'edges, with data:', g.edges(data=True)\n",
      "\n",
      "# and then let's look at what our for loops returned:\n",
      "print 'node_sizes:', node_size\n",
      "print 'edge_thicknesses:', edge_thickness"
     ],
     "language": "python",
     "metadata": {},
     "outputs": []
    },
    {
     "cell_type": "code",
     "collapsed": false,
     "input": [
      "LIGHT_BLUE = '#A0CBE2'\n",
      "\n",
      "nx.draw(g, \n",
      "    node_size = node_size,   # node_size can either take a single value (where all nodes will be size N),\n",
      "                             # or a list of values, where Nth list value will be the size for the Nth node\n",
      "    with_labels = True,\n",
      "    width = edge_thickness,  # similarly, the Nth value corresponds to the width for edge N\n",
      "    node_color = LIGHT_BLUE,\n",
      "    edge_color = LIGHT_BLUE,\n",
      "    font_size = 15\n",
      ")"
     ],
     "language": "python",
     "metadata": {},
     "outputs": []
    },
    {
     "cell_type": "markdown",
     "metadata": {},
     "source": [
      "#### Quiz 2: How would you make the following graph?\n",
      "\n",
      "<img src=\"files/image2.png\" width=\"300\" style=\"float:left;\" />"
     ]
    },
    {
     "cell_type": "code",
     "collapsed": false,
     "input": [
      "# Write your answer here"
     ],
     "language": "python",
     "metadata": {},
     "outputs": []
    }
   ],
   "metadata": {}
  }
 ]
}