{
 "metadata": {
  "name": "",
  "signature": "sha256:6064d9a25f8879b0e7e35cd5fb5ea5bbefbf1fb15e61bf66f6b6189a61245d05"
 },
 "nbformat": 3,
 "nbformat_minor": 0,
 "worksheets": [
  {
   "cells": [
    {
     "cell_type": "markdown",
     "metadata": {},
     "source": [
      "### Adding & editing graph nodes\n",
      "\n",
      "We'll first take a look at creating a graph, and adding/editing nodes:"
     ]
    },
    {
     "cell_type": "code",
     "collapsed": false,
     "input": [
      "import networkx as nx\n",
      "\n",
      "# Create a graph\n",
      "g = nx.Graph()\n",
      "\n",
      "# You can add nodes one at a time ...\n",
      "g.add_node(1)\n",
      "g.add_node(2)\n",
      "\n",
      "# Or in bulk:\n",
      "g.add_nodes_from(['a','b',30,4,5])\n",
      "\n",
      "g.nodes()"
     ],
     "language": "python",
     "metadata": {},
     "outputs": []
    },
    {
     "cell_type": "code",
     "collapsed": false,
     "input": [
      "# Note that you can re-add nodes and NetworkX won't complain:\n",
      "g.add_node('a')\n",
      "g.nodes()"
     ],
     "language": "python",
     "metadata": {},
     "outputs": []
    },
    {
     "cell_type": "code",
     "collapsed": false,
     "input": [
      "# Remove nodes can be done one at a time, or in bulk:\n",
      "if 'a' in g:\n",
      "    g.remove_node('a')\n",
      "\n",
      "g.remove_nodes_from(['b', 30])\n",
      "\n",
      "# Show nodes\n",
      "g.nodes()"
     ],
     "language": "python",
     "metadata": {},
     "outputs": []
    },
    {
     "cell_type": "markdown",
     "metadata": {},
     "source": [
      "### Adding & editing edges"
     ]
    },
    {
     "cell_type": "code",
     "collapsed": false,
     "input": [
      "# NetworkX's edges methods are pretty similar to the node methods we just learned:\n",
      "h = nx.Graph()\n",
      "\n",
      "# You can add edges one at a time, or in bulk\n",
      "h.add_edge('A','B')\n",
      "h.add_edges_from([('X','Y'), ('Y','Z')])\n",
      "\n",
      "# You can also view, edit, add attributes and remove them in a similar fashion.\n",
      "h.edges()"
     ],
     "language": "python",
     "metadata": {},
     "outputs": []
    },
    {
     "cell_type": "markdown",
     "metadata": {},
     "source": [
      "### Visualizing graphs"
     ]
    },
    {
     "cell_type": "code",
     "collapsed": false,
     "input": [
      "#ipython notebook magic command (to display graph inside the notebook)\n",
      "%matplotlib inline\n",
      "\n",
      "# Draw graph g (using RED for the node_color)\n",
      "nx.draw(g, node_color='#FF0000')\n",
      "\n",
      "\n",
      "# Let's draw h as well (using GREEN for the node_color)\n",
      "nx.draw(h, node_color='#00FF00')"
     ],
     "language": "python",
     "metadata": {},
     "outputs": []
    },
    {
     "cell_type": "markdown",
     "metadata": {},
     "source": [
      "#### Quiz 1: How would you create the following graph?\n",
      "\n",
      "<img src=\"files/image1.png\" style=\"float:left\" width=\"200\" />"
     ]
    },
    {
     "cell_type": "code",
     "collapsed": false,
     "input": [
      "# Write your answer here"
     ],
     "language": "python",
     "metadata": {},
     "outputs": []
    },
    {
     "cell_type": "markdown",
     "metadata": {},
     "source": [
      "### Centrality Measures"
     ]
    },
    {
     "cell_type": "code",
     "collapsed": false,
     "input": [
      "#Let's redraw our graph h to refresh our memory what it looks like:\n",
      "nx.draw(h)"
     ],
     "language": "python",
     "metadata": {},
     "outputs": []
    },
    {
     "cell_type": "code",
     "collapsed": false,
     "input": [
      "nx.degree_centrality(h)"
     ],
     "language": "python",
     "metadata": {},
     "outputs": []
    },
    {
     "cell_type": "code",
     "collapsed": false,
     "input": [
      "nx.betweenness_centrality(h)"
     ],
     "language": "python",
     "metadata": {},
     "outputs": []
    },
    {
     "cell_type": "code",
     "collapsed": false,
     "input": [
      "nx.closeness_centrality(h)"
     ],
     "language": "python",
     "metadata": {},
     "outputs": []
    },
    {
     "cell_type": "markdown",
     "metadata": {},
     "source": [
      "### Directed Graphs"
     ]
    },
    {
     "cell_type": "code",
     "collapsed": false,
     "input": [
      "# Creating a directed graph\n",
      "dg = nx.DiGraph()\n",
      "dg.add_edges_from([(1,2), (1,3), (2,4), (2,5), (2,6), (3,7), (7,8)])\n",
      "nx.draw(dg, node_color='#9999FF')"
     ],
     "language": "python",
     "metadata": {},
     "outputs": []
    },
    {
     "cell_type": "code",
     "collapsed": false,
     "input": [
      "# You can also covert a graph from one type to another.\n",
      "# Let's convert graph h from above into a directed graph:\n",
      "h_directed = nx.DiGraph(h)\n",
      "nx.draw(h_directed, node_color='#00FF00')"
     ],
     "language": "python",
     "metadata": {},
     "outputs": []
    },
    {
     "cell_type": "code",
     "collapsed": false,
     "input": [
      "# Notice in the plot above that the directions go both ways\n",
      "# This is confirmed when we also print out the list of edges \n",
      "\n",
      "# ....see how each node pair is listed twice?\n",
      "h_directed.edges()"
     ],
     "language": "python",
     "metadata": {},
     "outputs": []
    },
    {
     "cell_type": "markdown",
     "metadata": {},
     "source": [
      "### Adding attributes to nodes and edges\n",
      "\n",
      "Sometimes you may want to attach attributes to either the nodes or edges:\n",
      "\n",
      "* Perhaps you want to save node properties that will be helpful with future analysis\n",
      "* Perhaps you want to attach visual descriptions, such a node size, edge width or graph color\n",
      "\n",
      "#### Example 1: saving properties to nodes and edges"
     ]
    },
    {
     "cell_type": "code",
     "collapsed": false,
     "input": [
      "# create a new graph\n",
      "\n",
      "g = nx.Graph()\n",
      "\n",
      "g.add_edge('San Diego', 'Los Angeles', { 'distance': 0.4})\n",
      "g.add_edge('New York', 'Nashville', { 'distance': 5.6})\n",
      "g.add_edge('Boston', 'D.C.', { 'distance': 0.8})\n",
      "\n",
      "# note the data=True parameter:\n",
      "g.edges(data=True)"
     ],
     "language": "python",
     "metadata": {},
     "outputs": []
    },
    {
     "cell_type": "markdown",
     "metadata": {},
     "source": [
      "#### Example 2: using attributes to create nodes and edges of different sizes"
     ]
    },
    {
     "cell_type": "code",
     "collapsed": false,
     "input": [
      "g = nx.Graph()\n",
      "\n",
      "# let's attach a size attribute to each node to describe how big we want the node to be\n",
      "g.add_node(1, {'size': 800})\n",
      "g.add_node(2, {'size': 200})\n",
      "g.add_node(3, {'size': 200})\n",
      "g.add_node(4, {'size': 200})\n",
      "g.add_node(5, {'size': 200})\n",
      "\n",
      "g.add_edge(1,2, { 'thickness': 20})\n",
      "g.add_edge(1,3, { 'thickness': 20})\n",
      "g.add_edge(1,4, { 'thickness': 20})\n",
      "g.add_edge(1,5, { 'thickness': 20})\n",
      "g.add_edge(2,3, { 'thickness': 5})\n",
      "g.add_edge(3,4, { 'thickness': 5})\n",
      "g.add_edge(4,5, { 'thickness': 5})\n",
      "g.add_edge(5,2, { 'thickness': 5})\n",
      "\n",
      "# let's iterate through the nodes and edges and extract the list of node & edge sizes\n",
      "node_size = [attribs['size'] for (node, attribs) in g.nodes(data=True)]\n",
      "edge_thickness = [attribs['thickness'] for (v_from, v_to, attribs) in g.edges(data=True)]\n",
      "\n",
      "LIGHT_BLUE = '#A0CBE2'\n",
      "\n",
      "nx.draw(g, \n",
      "    node_size = node_size,   # node_size can either take a single value (where all nodes will be size N),\n",
      "                             # or a list of values, where Nth list value will be the size for the Nth node\n",
      "    with_labels = True,\n",
      "    width = edge_thickness,  # similarly, the Nth value corresponds to the width for edge N\n",
      "    node_color = LIGHT_BLUE,\n",
      "    edge_color = LIGHT_BLUE,\n",
      "    font_size = 15\n",
      ")"
     ],
     "language": "python",
     "metadata": {},
     "outputs": []
    }
   ],
   "metadata": {}
  }
 ]
}